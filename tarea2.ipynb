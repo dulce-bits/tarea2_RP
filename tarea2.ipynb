{
  "nbformat": 4,
  "nbformat_minor": 0,
  "metadata": {
    "colab": {
      "name": "tarea2.ipynb",
      "provenance": [],
      "collapsed_sections": [],
      "include_colab_link": true
    },
    "kernelspec": {
      "name": "python3",
      "display_name": "Python 3"
    }
  },
  "cells": [
    {
      "cell_type": "markdown",
      "metadata": {
        "id": "view-in-github",
        "colab_type": "text"
      },
      "source": [
        "<a href=\"https://colab.research.google.com/github/dulce-bits/tarea2_RP/blob/master/tarea2.ipynb\" target=\"_parent\"><img src=\"https://colab.research.google.com/assets/colab-badge.svg\" alt=\"Open In Colab\"/></a>"
      ]
    },
    {
      "cell_type": "markdown",
      "metadata": {
        "id": "FFJWQ2ezlLoZ",
        "colab_type": "text"
      },
      "source": [
        "Dulce Celeste Cruz Ramírez\n",
        "\n",
        "8vo Semestre ITCG\n",
        "\n",
        "Reconocimiento de patrones\n",
        "\n",
        "#Clasificación\n",
        "\n",
        "La clasificación se puede definir como el proceso de predecir respuestas cualitativas para una o varias observaciones, que involucra asignar a estas observaciones a una clase o categoria. Algunos métodos de clasficación primero predicen la probabilidad para cada una de las categorias de una variable cualitativa como base para hacer la clasificación. En un sentido se podría decir que también se comportan hasta cierto punto como métodos de regresión.\n",
        "\n",
        "\n",
        "Considere el conjunto de datos Weekly el cual es similar al conjunto de datos Smarket, excepto que el primero, respectivamente, contiene un registro de 1,089 semanas para 21 años (de inicios de 1990 a finales de 2010) del indice S&P 500, mostrando porcentajes del redimiento del mercado semana a semana.\n",
        "\n",
        "Para cada registro se tienen los predictores Lag1, Lag2, Lag3, Lag4 y Lag5 que representan el rendimiento para cada una de las semanas anteriores respectivamente. Tambien se tiene el predictor Volume que representa el promedio de transacciones realizadas. Today representa el rendimiento de esa semana y Direction es una variable cualitativa que indica si el mercado tuvo un rendimiento positivo o negativo en dada semana.\n",
        "\n",
        "**(a) Obtenga información estadística y gráfica acerca del conjunto de datos. ¿Existe algún patrón?**\n",
        "\n",
        "En el siguiente código se muestra una descripción de datos estadisticos como tendencia central, dispersión y promedio del conjunto de datos.\n",
        "Se puede observar que los datos son dispersos y no hay un pratrón significativo que se pueda reconocer con estos datos.\n"
      ]
    },
    {
      "cell_type": "code",
      "metadata": {
        "id": "-jTc4dj9_2tI",
        "colab_type": "code",
        "outputId": "6d1c2fcf-6d09-4a33-cb4e-c6c3dbb69590",
        "colab": {
          "base_uri": "https://localhost:8080/",
          "height": 297
        }
      },
      "source": [
        "import numpy as np\n",
        "import pandas as pd\n",
        "import seaborn as sns\n",
        "sns.set_style(\"darkgrid\")\n",
        "import matplotlib.pyplot as plt\n",
        "import matplotlib.mlab as mlab\n",
        "\n",
        "import sklearn.linear_model as lm\n",
        "import sklearn.discriminant_analysis as da\n",
        "import sklearn.neighbors as nb\n",
        "from sklearn.metrics import confusion_matrix, classification_report, precision_score, accuracy_score\n",
        "import statsmodels.api as sm\n",
        "import statsmodels.formula.api as smf\n",
        "\n",
        "url='https://raw.githubusercontent.com/dulce-bits/tarea2_RP/master/Weekly.csv'\n",
        "\n",
        "df = pd.read_csv(url)\n",
        "\n",
        "df=df.drop('Year', axis=1)\n",
        "\n",
        "df.describe()"
      ],
      "execution_count": 0,
      "outputs": [
        {
          "output_type": "execute_result",
          "data": {
            "text/html": [
              "<div>\n",
              "<style scoped>\n",
              "    .dataframe tbody tr th:only-of-type {\n",
              "        vertical-align: middle;\n",
              "    }\n",
              "\n",
              "    .dataframe tbody tr th {\n",
              "        vertical-align: top;\n",
              "    }\n",
              "\n",
              "    .dataframe thead th {\n",
              "        text-align: right;\n",
              "    }\n",
              "</style>\n",
              "<table border=\"1\" class=\"dataframe\">\n",
              "  <thead>\n",
              "    <tr style=\"text-align: right;\">\n",
              "      <th></th>\n",
              "      <th>Lag1</th>\n",
              "      <th>Lag2</th>\n",
              "      <th>Lag3</th>\n",
              "      <th>Lag4</th>\n",
              "      <th>Lag5</th>\n",
              "      <th>Volume</th>\n",
              "      <th>Today</th>\n",
              "    </tr>\n",
              "  </thead>\n",
              "  <tbody>\n",
              "    <tr>\n",
              "      <th>count</th>\n",
              "      <td>1089.000000</td>\n",
              "      <td>1089.000000</td>\n",
              "      <td>1089.000000</td>\n",
              "      <td>1089.000000</td>\n",
              "      <td>1089.000000</td>\n",
              "      <td>1089.000000</td>\n",
              "      <td>1089.000000</td>\n",
              "    </tr>\n",
              "    <tr>\n",
              "      <th>mean</th>\n",
              "      <td>0.150585</td>\n",
              "      <td>0.151079</td>\n",
              "      <td>0.147205</td>\n",
              "      <td>0.145818</td>\n",
              "      <td>0.139893</td>\n",
              "      <td>1.574618</td>\n",
              "      <td>0.149899</td>\n",
              "    </tr>\n",
              "    <tr>\n",
              "      <th>std</th>\n",
              "      <td>2.357013</td>\n",
              "      <td>2.357254</td>\n",
              "      <td>2.360502</td>\n",
              "      <td>2.360279</td>\n",
              "      <td>2.361285</td>\n",
              "      <td>1.686636</td>\n",
              "      <td>2.356927</td>\n",
              "    </tr>\n",
              "    <tr>\n",
              "      <th>min</th>\n",
              "      <td>-18.195000</td>\n",
              "      <td>-18.195000</td>\n",
              "      <td>-18.195000</td>\n",
              "      <td>-18.195000</td>\n",
              "      <td>-18.195000</td>\n",
              "      <td>0.087465</td>\n",
              "      <td>-18.195000</td>\n",
              "    </tr>\n",
              "    <tr>\n",
              "      <th>25%</th>\n",
              "      <td>-1.154000</td>\n",
              "      <td>-1.154000</td>\n",
              "      <td>-1.158000</td>\n",
              "      <td>-1.158000</td>\n",
              "      <td>-1.166000</td>\n",
              "      <td>0.332022</td>\n",
              "      <td>-1.154000</td>\n",
              "    </tr>\n",
              "    <tr>\n",
              "      <th>50%</th>\n",
              "      <td>0.241000</td>\n",
              "      <td>0.241000</td>\n",
              "      <td>0.241000</td>\n",
              "      <td>0.238000</td>\n",
              "      <td>0.234000</td>\n",
              "      <td>1.002680</td>\n",
              "      <td>0.241000</td>\n",
              "    </tr>\n",
              "    <tr>\n",
              "      <th>75%</th>\n",
              "      <td>1.405000</td>\n",
              "      <td>1.409000</td>\n",
              "      <td>1.409000</td>\n",
              "      <td>1.409000</td>\n",
              "      <td>1.405000</td>\n",
              "      <td>2.053727</td>\n",
              "      <td>1.405000</td>\n",
              "    </tr>\n",
              "    <tr>\n",
              "      <th>max</th>\n",
              "      <td>12.026000</td>\n",
              "      <td>12.026000</td>\n",
              "      <td>12.026000</td>\n",
              "      <td>12.026000</td>\n",
              "      <td>12.026000</td>\n",
              "      <td>9.328214</td>\n",
              "      <td>12.026000</td>\n",
              "    </tr>\n",
              "  </tbody>\n",
              "</table>\n",
              "</div>"
            ],
            "text/plain": [
              "              Lag1         Lag2  ...       Volume        Today\n",
              "count  1089.000000  1089.000000  ...  1089.000000  1089.000000\n",
              "mean      0.150585     0.151079  ...     1.574618     0.149899\n",
              "std       2.357013     2.357254  ...     1.686636     2.356927\n",
              "min     -18.195000   -18.195000  ...     0.087465   -18.195000\n",
              "25%      -1.154000    -1.154000  ...     0.332022    -1.154000\n",
              "50%       0.241000     0.241000  ...     1.002680     0.241000\n",
              "75%       1.405000     1.409000  ...     2.053727     1.405000\n",
              "max      12.026000    12.026000  ...     9.328214    12.026000\n",
              "\n",
              "[8 rows x 7 columns]"
            ]
          },
          "metadata": {
            "tags": []
          },
          "execution_count": 128
        }
      ]
    },
    {
      "cell_type": "markdown",
      "metadata": {
        "id": "wczMsOAgQ9Yd",
        "colab_type": "text"
      },
      "source": [
        "A continuación se grafican las relaciones de los predictores Lag1 - Lag5 con Volume con el objetivo de ilustrar el comportamiento de los datos. Las instancias de color rojo son Up y las de color azul son Down."
      ]
    },
    {
      "cell_type": "code",
      "metadata": {
        "id": "SSety6kgQ-NN",
        "colab_type": "code",
        "outputId": "902c8a48-4ddc-428b-f8c8-5731baef8f0e",
        "colab": {
          "base_uri": "https://localhost:8080/",
          "height": 1709
        }
      },
      "source": [
        "import matplotlib.pyplot as plt\n",
        "plt.figure(1, figsize=(20, 30))\n",
        "plt.clf()\n",
        "plt.subplot(5,1,1)\n",
        "plt.scatter(df[df.Direction=='Up'].Volume, df[df.Direction=='Up'].Lag1, color='red', marker='*')\n",
        "plt.scatter(df[df.Direction=='Down'].Volume, df[df.Direction=='Down'].Lag1, color='blue', marker='+')\n",
        "plt.title('Weekly')\n",
        "plt.ylabel('Lag1')\n",
        "plt.xlabel('Volume')\n",
        "\n",
        "plt.subplot(5,1,2)\n",
        "plt.scatter(df[df.Direction=='Up'].Volume, df[df.Direction=='Up'].Lag2, color='red', marker='*')\n",
        "plt.scatter(df[df.Direction=='Down'].Volume, df[df.Direction=='Down'].Lag2, color='blue', marker='+')\n",
        "plt.ylabel('Lag2')\n",
        "plt.xlabel('Volume')\n",
        "\n",
        "plt.subplot(5,1,3)\n",
        "plt.scatter(df[df.Direction=='Up'].Volume, df[df.Direction=='Up'].Lag3, color='red', marker='*')\n",
        "plt.scatter(df[df.Direction=='Down'].Volume, df[df.Direction=='Down'].Lag3, color='blue', marker='+')\n",
        "plt.ylabel('Lag3')\n",
        "plt.xlabel('Volume')\n",
        "\n",
        "plt.subplot(5,1,4)\n",
        "plt.scatter(df[df.Direction=='Up'].Volume, df[df.Direction=='Up'].Lag4, color='red', marker='*')\n",
        "plt.scatter(df[df.Direction=='Down'].Volume, df[df.Direction=='Down'].Lag4, color='blue', marker='+')\n",
        "plt.ylabel('Lag4')\n",
        "plt.xlabel('Volume')\n",
        "\n",
        "plt.subplot(5,1,5)\n",
        "plt.scatter(df[df.Direction=='Up'].Volume, df[df.Direction=='Up'].Lag5, color='red', marker='*')\n",
        "plt.scatter(df[df.Direction=='Down'].Volume, df[df.Direction=='Down'].Lag5, color='blue', marker='+')\n",
        "plt.ylabel('Lag5')\n",
        "plt.xlabel('Volume')\n",
        "\n",
        "plt.show()"
      ],
      "execution_count": 0,
      "outputs": [
        {
          "output_type": "display_data",
          "data": {
            "image/png": "[encoded data removed]",
            "text/plain": [
              "<Figure size 1440x2160 with 5 Axes>"
            ]
          },
          "metadata": {
            "tags": []
          }
        }
      ]
    },
    {
      "cell_type": "markdown",
      "metadata": {
        "id": "OT3sg-QH9jZw",
        "colab_type": "text"
      },
      "source": [
        "Como se puede ver en los graficos anteriores, la población no esta correctamente caracterizada, ya que no hay una frontera clara entre las instancias Up y Down respecto a sus predictores.\n",
        "\n",
        "Utilizando la función corr() de pandas podemos ver una matriz que contiene las correlaciones entre los predictores del conjunto de datos Weekly."
      ]
    },
    {
      "cell_type": "code",
      "metadata": {
        "id": "Nkj7-AkVlI8i",
        "colab_type": "code",
        "outputId": "e22d3b6e-efbd-48a2-cd1a-27a07d9b5c40",
        "colab": {
          "base_uri": "https://localhost:8080/",
          "height": 297
        }
      },
      "source": [
        "df.corr()"
      ],
      "execution_count": 0,
      "outputs": [
        {
          "output_type": "execute_result",
          "data": {
            "text/html": [
              "<div>\n",
              "<style scoped>\n",
              "    .dataframe tbody tr th:only-of-type {\n",
              "        vertical-align: middle;\n",
              "    }\n",
              "\n",
              "    .dataframe tbody tr th {\n",
              "        vertical-align: top;\n",
              "    }\n",
              "\n",
              "    .dataframe thead th {\n",
              "        text-align: right;\n",
              "    }\n",
              "</style>\n",
              "<table border=\"1\" class=\"dataframe\">\n",
              "  <thead>\n",
              "    <tr style=\"text-align: right;\">\n",
              "      <th></th>\n",
              "      <th>Year</th>\n",
              "      <th>Lag1</th>\n",
              "      <th>Lag2</th>\n",
              "      <th>Lag3</th>\n",
              "      <th>Lag4</th>\n",
              "      <th>Lag5</th>\n",
              "      <th>Volume</th>\n",
              "      <th>Today</th>\n",
              "    </tr>\n",
              "  </thead>\n",
              "  <tbody>\n",
              "    <tr>\n",
              "      <th>Year</th>\n",
              "      <td>1.000000</td>\n",
              "      <td>-0.032289</td>\n",
              "      <td>-0.033390</td>\n",
              "      <td>-0.030006</td>\n",
              "      <td>-0.031128</td>\n",
              "      <td>-0.030519</td>\n",
              "      <td>0.841942</td>\n",
              "      <td>-0.032460</td>\n",
              "    </tr>\n",
              "    <tr>\n",
              "      <th>Lag1</th>\n",
              "      <td>-0.032289</td>\n",
              "      <td>1.000000</td>\n",
              "      <td>-0.074853</td>\n",
              "      <td>0.058636</td>\n",
              "      <td>-0.071274</td>\n",
              "      <td>-0.008183</td>\n",
              "      <td>-0.064951</td>\n",
              "      <td>-0.075032</td>\n",
              "    </tr>\n",
              "    <tr>\n",
              "      <th>Lag2</th>\n",
              "      <td>-0.033390</td>\n",
              "      <td>-0.074853</td>\n",
              "      <td>1.000000</td>\n",
              "      <td>-0.075721</td>\n",
              "      <td>0.058382</td>\n",
              "      <td>-0.072499</td>\n",
              "      <td>-0.085513</td>\n",
              "      <td>0.059167</td>\n",
              "    </tr>\n",
              "    <tr>\n",
              "      <th>Lag3</th>\n",
              "      <td>-0.030006</td>\n",
              "      <td>0.058636</td>\n",
              "      <td>-0.075721</td>\n",
              "      <td>1.000000</td>\n",
              "      <td>-0.075396</td>\n",
              "      <td>0.060657</td>\n",
              "      <td>-0.069288</td>\n",
              "      <td>-0.071244</td>\n",
              "    </tr>\n",
              "    <tr>\n",
              "      <th>Lag4</th>\n",
              "      <td>-0.031128</td>\n",
              "      <td>-0.071274</td>\n",
              "      <td>0.058382</td>\n",
              "      <td>-0.075396</td>\n",
              "      <td>1.000000</td>\n",
              "      <td>-0.075675</td>\n",
              "      <td>-0.061075</td>\n",
              "      <td>-0.007826</td>\n",
              "    </tr>\n",
              "    <tr>\n",
              "      <th>Lag5</th>\n",
              "      <td>-0.030519</td>\n",
              "      <td>-0.008183</td>\n",
              "      <td>-0.072499</td>\n",
              "      <td>0.060657</td>\n",
              "      <td>-0.075675</td>\n",
              "      <td>1.000000</td>\n",
              "      <td>-0.058517</td>\n",
              "      <td>0.011013</td>\n",
              "    </tr>\n",
              "    <tr>\n",
              "      <th>Volume</th>\n",
              "      <td>0.841942</td>\n",
              "      <td>-0.064951</td>\n",
              "      <td>-0.085513</td>\n",
              "      <td>-0.069288</td>\n",
              "      <td>-0.061075</td>\n",
              "      <td>-0.058517</td>\n",
              "      <td>1.000000</td>\n",
              "      <td>-0.033078</td>\n",
              "    </tr>\n",
              "    <tr>\n",
              "      <th>Today</th>\n",
              "      <td>-0.032460</td>\n",
              "      <td>-0.075032</td>\n",
              "      <td>0.059167</td>\n",
              "      <td>-0.071244</td>\n",
              "      <td>-0.007826</td>\n",
              "      <td>0.011013</td>\n",
              "      <td>-0.033078</td>\n",
              "      <td>1.000000</td>\n",
              "    </tr>\n",
              "  </tbody>\n",
              "</table>\n",
              "</div>"
            ],
            "text/plain": [
              "            Year      Lag1      Lag2  ...      Lag5    Volume     Today\n",
              "Year    1.000000 -0.032289 -0.033390  ... -0.030519  0.841942 -0.032460\n",
              "Lag1   -0.032289  1.000000 -0.074853  ... -0.008183 -0.064951 -0.075032\n",
              "Lag2   -0.033390 -0.074853  1.000000  ... -0.072499 -0.085513  0.059167\n",
              "Lag3   -0.030006  0.058636 -0.075721  ...  0.060657 -0.069288 -0.071244\n",
              "Lag4   -0.031128 -0.071274  0.058382  ... -0.075675 -0.061075 -0.007826\n",
              "Lag5   -0.030519 -0.008183 -0.072499  ...  1.000000 -0.058517  0.011013\n",
              "Volume  0.841942 -0.064951 -0.085513  ... -0.058517  1.000000 -0.033078\n",
              "Today  -0.032460 -0.075032  0.059167  ...  0.011013 -0.033078  1.000000\n",
              "\n",
              "[8 rows x 8 columns]"
            ]
          },
          "metadata": {
            "tags": []
          },
          "execution_count": 23
        }
      ]
    },
    {
      "cell_type": "markdown",
      "metadata": {
        "id": "xpnmf4NslJs_",
        "colab_type": "text"
      },
      "source": [
        "Se puede ver en la matriz de correlación que en general no existe una correlación significativa entre los predictores, teniendo los predictores Lag2 y Volume como los de mayor grado de correlación (-0.085513), pero aún asi, esta no representa una correlación significativa. Por lo que se puede esperar que las predicciones que se puedan calcular con este conjunto de datos sean muy malas."
      ]
    },
    {
      "cell_type": "markdown",
      "metadata": {
        "id": "fkPS78RwQz47",
        "colab_type": "text"
      },
      "source": [
        "**(b) Utilice el conjunto completo de datos para realizar una regresión logística considerando a Direction como respuesta y a las variables LagX y Volume como predictores. Muestre los resultados. ¿Alguno de los predictores es estadísticamente significativo? ¿Cuál o cuáles?**"
      ]
    },
    {
      "cell_type": "code",
      "metadata": {
        "id": "938Qy3x9Q3_y",
        "colab_type": "code",
        "outputId": "e56df748-9e07-484e-de46-df111443677c",
        "colab": {
          "base_uri": "https://localhost:8080/",
          "height": 374
        }
      },
      "source": [
        "mod1 = smf.glm(formula='Direction~Lag1+Lag2+Lag3+Lag4+Lag5+Volume', data=df, family=sm.families.Binomial()).fit()\n",
        "mod1.summary()"
      ],
      "execution_count": 0,
      "outputs": [
        {
          "output_type": "execute_result",
          "data": {
            "text/html": [
              "<table class=\"simpletable\">\n",
              "<caption>Generalized Linear Model Regression Results</caption>\n",
              "<tr>\n",
              "  <th>Dep. Variable:</th>  <td>['Direction[Down]', 'Direction[Up]']</td> <th>  No. Observations:  </th>  <td>  1089</td>  \n",
              "</tr>\n",
              "<tr>\n",
              "  <th>Model:</th>                           <td>GLM</td>                 <th>  Df Residuals:      </th>  <td>  1082</td>  \n",
              "</tr>\n",
              "<tr>\n",
              "  <th>Model Family:</th>                 <td>Binomial</td>               <th>  Df Model:          </th>  <td>     6</td>  \n",
              "</tr>\n",
              "<tr>\n",
              "  <th>Link Function:</th>                  <td>logit</td>                <th>  Scale:             </th> <td>  1.0000</td> \n",
              "</tr>\n",
              "<tr>\n",
              "  <th>Method:</th>                         <td>IRLS</td>                 <th>  Log-Likelihood:    </th> <td> -743.18</td> \n",
              "</tr>\n",
              "<tr>\n",
              "  <th>Date:</th>                     <td>Sun, 19 May 2019</td>           <th>  Deviance:          </th> <td>  1486.4</td> \n",
              "</tr>\n",
              "<tr>\n",
              "  <th>Time:</th>                         <td>23:49:24</td>               <th>  Pearson chi2:      </th> <td>1.09e+03</td> \n",
              "</tr>\n",
              "<tr>\n",
              "  <th>No. Iterations:</th>                   <td>4</td>                  <th>  Covariance Type:   </th> <td>nonrobust</td>\n",
              "</tr>\n",
              "</table>\n",
              "<table class=\"simpletable\">\n",
              "<tr>\n",
              "      <td></td>         <th>coef</th>     <th>std err</th>      <th>z</th>      <th>P>|z|</th>  <th>[0.025</th>    <th>0.975]</th>  \n",
              "</tr>\n",
              "<tr>\n",
              "  <th>Intercept</th> <td>   -0.2669</td> <td>    0.086</td> <td>   -3.106</td> <td> 0.002</td> <td>   -0.435</td> <td>   -0.098</td>\n",
              "</tr>\n",
              "<tr>\n",
              "  <th>Lag1</th>      <td>    0.0413</td> <td>    0.026</td> <td>    1.563</td> <td> 0.118</td> <td>   -0.010</td> <td>    0.093</td>\n",
              "</tr>\n",
              "<tr>\n",
              "  <th>Lag2</th>      <td>   -0.0584</td> <td>    0.027</td> <td>   -2.175</td> <td> 0.030</td> <td>   -0.111</td> <td>   -0.006</td>\n",
              "</tr>\n",
              "<tr>\n",
              "  <th>Lag3</th>      <td>    0.0161</td> <td>    0.027</td> <td>    0.602</td> <td> 0.547</td> <td>   -0.036</td> <td>    0.068</td>\n",
              "</tr>\n",
              "<tr>\n",
              "  <th>Lag4</th>      <td>    0.0278</td> <td>    0.026</td> <td>    1.050</td> <td> 0.294</td> <td>   -0.024</td> <td>    0.080</td>\n",
              "</tr>\n",
              "<tr>\n",
              "  <th>Lag5</th>      <td>    0.0145</td> <td>    0.026</td> <td>    0.549</td> <td> 0.583</td> <td>   -0.037</td> <td>    0.066</td>\n",
              "</tr>\n",
              "<tr>\n",
              "  <th>Volume</th>    <td>    0.0227</td> <td>    0.037</td> <td>    0.616</td> <td> 0.538</td> <td>   -0.050</td> <td>    0.095</td>\n",
              "</tr>\n",
              "</table>"
            ],
            "text/plain": [
              "<class 'statsmodels.iolib.summary.Summary'>\n",
              "\"\"\"\n",
              "                          Generalized Linear Model Regression Results                           \n",
              "================================================================================================\n",
              "Dep. Variable:     ['Direction[Down]', 'Direction[Up]']   No. Observations:                 1089\n",
              "Model:                                              GLM   Df Residuals:                     1082\n",
              "Model Family:                                  Binomial   Df Model:                            6\n",
              "Link Function:                                    logit   Scale:                          1.0000\n",
              "Method:                                            IRLS   Log-Likelihood:                -743.18\n",
              "Date:                                  Sun, 19 May 2019   Deviance:                       1486.4\n",
              "Time:                                          23:49:24   Pearson chi2:                 1.09e+03\n",
              "No. Iterations:                                       4   Covariance Type:             nonrobust\n",
              "==============================================================================\n",
              "                 coef    std err          z      P>|z|      [0.025      0.975]\n",
              "------------------------------------------------------------------------------\n",
              "Intercept     -0.2669      0.086     -3.106      0.002      -0.435      -0.098\n",
              "Lag1           0.0413      0.026      1.563      0.118      -0.010       0.093\n",
              "Lag2          -0.0584      0.027     -2.175      0.030      -0.111      -0.006\n",
              "Lag3           0.0161      0.027      0.602      0.547      -0.036       0.068\n",
              "Lag4           0.0278      0.026      1.050      0.294      -0.024       0.080\n",
              "Lag5           0.0145      0.026      0.549      0.583      -0.037       0.066\n",
              "Volume         0.0227      0.037      0.616      0.538      -0.050       0.095\n",
              "==============================================================================\n",
              "\"\"\""
            ]
          },
          "metadata": {
            "tags": []
          },
          "execution_count": 67
        }
      ]
    },
    {
      "cell_type": "markdown",
      "metadata": {
        "id": "WAxMbhHT8nF2",
        "colab_type": "text"
      },
      "source": [
        "Se puede observar que los coeficientes calculados por el modelo son muy cercanos a cero, lo cual nos dice que estos no son significativos para el calculo de la predicción. El que se podría considerar como más significativo en comparación con los demás es Lag2, dado que su coeficiente es el que se aleja en mayor grado de 0.\n",
        "\n",
        "De acuerdo al rango estimado y con un 95% de intervalo de confianza, el error estándar estimado tiene un valor bajo en todos los coeficientes pero, dado que los coeficientes tienden a cero y se uso el mismo conjunto para el entrenamiento y para las pruebas, estos resultados no pueden ser considerados fiables, ya que si se utilizara otro conjunto para las pruebas, es muy probable que el error fuera grande.\n",
        "\n",
        "**(c) Calcule la matriz de confusión y el nivel de exactitud del modelo. Explique los resultados de la matriz de confusión acerca de los tipos de errores hechos por la regresión logística.**"
      ]
    },
    {
      "cell_type": "code",
      "metadata": {
        "id": "BlGxS6DF9mn2",
        "colab_type": "code",
        "outputId": "f7f57f07-db15-4d13-91f3-bef1e78ee262",
        "colab": {
          "base_uri": "https://localhost:8080/",
          "height": 230
        }
      },
      "source": [
        "import statsmodels.api as sm\n",
        "import statsmodels.formula.api as smf\n",
        "import pandas as pd\n",
        "from sklearn.metrics import confusion_matrix, classification_report, precision_score, accuracy_score\n",
        "import numpy as np\n",
        "\n",
        "url='https://raw.githubusercontent.com/dulce-bits/tarea2_RP/master/Weekly.csv'\n",
        "\n",
        "df = pd.read_csv(url)\n",
        "\n",
        "mod1 = smf.glm(formula='Direction~Lag1+Lag2+Lag3+Lag4+Lag5+Volume', data=df, family=sm.families.Binomial()).fit()\n",
        "df['Direction2'] = df.Direction.factorize()[0]\n",
        "y = df.Direction2\n",
        "\n",
        "X = df[['Lag1','Lag2','Lag3','Lag4','Lag5','Volume']]\n",
        "X = sm.add_constant(X)\n",
        "y_prob = mod1.predict(X)\n",
        "\n",
        "decision_prob = 0.5\n",
        "df_ = pd.DataFrame({'True default status': y,\n",
        "                    'Predicted default status': y_prob > decision_prob})\n",
        "\n",
        "df_.replace(to_replace={True:1, False:0}, inplace=True)\n",
        "y_pred = np.asarray(df_['Predicted default status'])\n",
        "\n",
        "print('Precisión: ' + str(precision_score(y, y_pred)))\n",
        "print('Exactitud: ' + str(accuracy_score(y, y_pred)))\n",
        "\n",
        "df_.replace(to_replace={0:'Up', 1:'Down'}, inplace=True)\n",
        "df_.groupby(['Predicted default status','True default status']).size().unstack('True default status')\n",
        "\n"
      ],
      "execution_count": 0,
      "outputs": [
        {
          "output_type": "stream",
          "text": [
            "Precisión: 0.47058823529411764\n",
            "Exactitud: 0.4389348025711662\n"
          ],
          "name": "stdout"
        },
        {
          "output_type": "stream",
          "text": [
            "/usr/local/lib/python3.6/dist-packages/numpy/core/fromnumeric.py:2389: FutureWarning: Method .ptp is deprecated and will be removed in a future version. Use numpy.ptp instead.\n",
            "  return ptp(axis=axis, out=out, **kwargs)\n"
          ],
          "name": "stderr"
        },
        {
          "output_type": "execute_result",
          "data": {
            "text/html": [
              "<div>\n",
              "<style scoped>\n",
              "    .dataframe tbody tr th:only-of-type {\n",
              "        vertical-align: middle;\n",
              "    }\n",
              "\n",
              "    .dataframe tbody tr th {\n",
              "        vertical-align: top;\n",
              "    }\n",
              "\n",
              "    .dataframe thead th {\n",
              "        text-align: right;\n",
              "    }\n",
              "</style>\n",
              "<table border=\"1\" class=\"dataframe\">\n",
              "  <thead>\n",
              "    <tr style=\"text-align: right;\">\n",
              "      <th>True default status</th>\n",
              "      <th>Down</th>\n",
              "      <th>Up</th>\n",
              "    </tr>\n",
              "    <tr>\n",
              "      <th>Predicted default status</th>\n",
              "      <th></th>\n",
              "      <th></th>\n",
              "    </tr>\n",
              "  </thead>\n",
              "  <tbody>\n",
              "    <tr>\n",
              "      <th>Down</th>\n",
              "      <td>48</td>\n",
              "      <td>54</td>\n",
              "    </tr>\n",
              "    <tr>\n",
              "      <th>Up</th>\n",
              "      <td>557</td>\n",
              "      <td>430</td>\n",
              "    </tr>\n",
              "  </tbody>\n",
              "</table>\n",
              "</div>"
            ],
            "text/plain": [
              "True default status       Down   Up\n",
              "Predicted default status           \n",
              "Down                        48   54\n",
              "Up                         557  430"
            ]
          },
          "metadata": {
            "tags": []
          },
          "execution_count": 4
        }
      ]
    },
    {
      "cell_type": "markdown",
      "metadata": {
        "id": "k-K6jVuFcZTH",
        "colab_type": "text"
      },
      "source": [
        "Es evidente que el modelo no es bueno, obteniendo una precisión y exactitud bajas. \n",
        "\n",
        "La matriz de confusión muestra que, de un conjunto de 1,089 instancias, 557+430 = 987 fueron clasificadas como Up. De esas instancias 430 si son Up, pero 557 no. Sin embargo, de los 54+430 = 484 que realmente son Up, 54 no fueron identificados por el modelo. Lo cual representa un 11% de error, lo cual no es tan malo para un modelo.\n",
        "\n",
        "La sensibilidad es el porcentaje de instancias que son Up y que fueron identificadas correctamente:\n",
        "430 / 484  x 100= 88.84%\n",
        "\n",
        "La especificidad es el porcentaje de instancias que son Down y que fueron correctamente identificadas:\n",
        "48 / 605  x 100= 7.93%"
      ]
    },
    {
      "cell_type": "markdown",
      "metadata": {
        "id": "lVLofPz89ol3",
        "colab_type": "text"
      },
      "source": [
        "**(d) Entrene el modelo de regresión logística utilizando como conjunto entrenamiento el periodo de 1990 a 2008, con Lag2 como el único predictor. El periodo de 2009 a 2010 corresponde al conjunto de pruebas. Calcule la matriz de confusión y las métricas de exactitud y precisión para ambos conjuntos.**\n",
        "\n",
        "Para el conjunto de entrenamiento:"
      ]
    },
    {
      "cell_type": "code",
      "metadata": {
        "id": "5OxkcSWx9rsD",
        "colab_type": "code",
        "outputId": "bb2f4f43-9b93-42a6-dc2c-588a4d508c42",
        "colab": {
          "base_uri": "https://localhost:8080/",
          "height": 536
        }
      },
      "source": [
        "df = pd.read_csv(url)\n",
        "df['Direction2'] = df.Direction.factorize()[0]\n",
        "\n",
        "X_train = df[df.Year < 2009][['Lag2']]\n",
        "y_train = df[df.Year < 2009][['Direction2']]\n",
        "\n",
        "X_train = sm.add_constant(X_train) \n",
        "\n",
        "\n",
        "mod_d = smf.Logit(y_train, X_train).fit()\n",
        "print(mod_d.summary())\n",
        "\n",
        "y_prob = mod_d.predict(X_train)\n",
        "\n",
        "decision_prob = 0.5\n",
        "y_train = y_train.reset_index()['Direction2']\n",
        "y_prob = y_prob.reset_index()[0]\n",
        "\n",
        "df_ = pd.DataFrame({'True default status': y_train,\n",
        "                    'Predicted default status': y_prob > decision_prob})\n",
        "\n",
        "# matriz de confusion \n",
        "df_.replace(to_replace={True:1, False:0}, inplace=True)\n",
        "y_pred = np.asarray(df_['Predicted default status'])\n",
        "\n",
        "\n",
        "print('Precisión: ' + str(precision_score(y_train, y_pred)))\n",
        "print('Exactitud: ' + str(accuracy_score(y_train, y_pred)))\n",
        "\n",
        "df_.replace(to_replace={0:'Up', 1:'Down'}, inplace=True)\n",
        "df_.groupby(['Predicted default status','True default status']).size().unstack('True default status')\n"
      ],
      "execution_count": 0,
      "outputs": [
        {
          "output_type": "stream",
          "text": [
            "Optimization terminated successfully.\n",
            "         Current function value: 0.685555\n",
            "         Iterations 4\n",
            "                           Logit Regression Results                           \n",
            "==============================================================================\n",
            "Dep. Variable:             Direction2   No. Observations:                  985\n",
            "Model:                          Logit   Df Residuals:                      983\n",
            "Method:                           MLE   Df Model:                            1\n",
            "Date:                Mon, 20 May 2019   Pseudo R-squ.:                0.003076\n",
            "Time:                        02:28:35   Log-Likelihood:                -675.27\n",
            "converged:                       True   LL-Null:                       -677.35\n",
            "                                        LLR p-value:                   0.04123\n",
            "==============================================================================\n",
            "                 coef    std err          z      P>|z|      [0.025      0.975]\n",
            "------------------------------------------------------------------------------\n",
            "const          0.2033      0.064      3.162      0.002       0.077       0.329\n",
            "Lag2           0.0581      0.029      2.024      0.043       0.002       0.114\n",
            "==============================================================================\n",
            "Precisión: 0.5562632696390658\n",
            "Exactitud: 0.5553299492385787\n"
          ],
          "name": "stdout"
        },
        {
          "output_type": "stream",
          "text": [
            "/usr/local/lib/python3.6/dist-packages/numpy/core/fromnumeric.py:2389: FutureWarning: Method .ptp is deprecated and will be removed in a future version. Use numpy.ptp instead.\n",
            "  return ptp(axis=axis, out=out, **kwargs)\n"
          ],
          "name": "stderr"
        },
        {
          "output_type": "execute_result",
          "data": {
            "text/html": [
              "<div>\n",
              "<style scoped>\n",
              "    .dataframe tbody tr th:only-of-type {\n",
              "        vertical-align: middle;\n",
              "    }\n",
              "\n",
              "    .dataframe tbody tr th {\n",
              "        vertical-align: top;\n",
              "    }\n",
              "\n",
              "    .dataframe thead th {\n",
              "        text-align: right;\n",
              "    }\n",
              "</style>\n",
              "<table border=\"1\" class=\"dataframe\">\n",
              "  <thead>\n",
              "    <tr style=\"text-align: right;\">\n",
              "      <th>True default status</th>\n",
              "      <th>Down</th>\n",
              "      <th>Up</th>\n",
              "    </tr>\n",
              "    <tr>\n",
              "      <th>Predicted default status</th>\n",
              "      <th></th>\n",
              "      <th></th>\n",
              "    </tr>\n",
              "  </thead>\n",
              "  <tbody>\n",
              "    <tr>\n",
              "      <th>Down</th>\n",
              "      <td>524</td>\n",
              "      <td>418</td>\n",
              "    </tr>\n",
              "    <tr>\n",
              "      <th>Up</th>\n",
              "      <td>20</td>\n",
              "      <td>23</td>\n",
              "    </tr>\n",
              "  </tbody>\n",
              "</table>\n",
              "</div>"
            ],
            "text/plain": [
              "True default status       Down   Up\n",
              "Predicted default status           \n",
              "Down                       524  418\n",
              "Up                          20   23"
            ]
          },
          "metadata": {
            "tags": []
          },
          "execution_count": 96
        }
      ]
    },
    {
      "cell_type": "markdown",
      "metadata": {
        "id": "4DCxm2g_rSyD",
        "colab_type": "text"
      },
      "source": [
        "Se puede observar que el valor de B_{1} continua tendiendo a cero, y la prueba z presenta un valor muy pequeño, por lo que se sostiene que este no tiene una correlación significativa con la predicción.  De acuerdo al resutado de la prueba z para probar $\\ H_{0} $vs $\\ H_{a} $. Cuando no hay relación entre la respuesta y los predictores se espera que el valor de P>|z| tome un valor cercano a 1, por otro lado, cuando $ \\ H_{a}$ se espera que su valor sea mayor a 1. En este caso se puede apreciar que la prueba z toma valores muy pequeños, con lo cual se tiene evidencia suficiente para descartar $\\ H_{0}$.\n",
        "\n",
        "Para el conjunto de pruebas:"
      ]
    },
    {
      "cell_type": "code",
      "metadata": {
        "id": "Fyzzw-ETUY9S",
        "colab_type": "code",
        "outputId": "b0861719-a994-4b0f-fe6c-c5e42f9c3c1b",
        "colab": {
          "base_uri": "https://localhost:8080/",
          "height": 230
        }
      },
      "source": [
        "df = pd.read_csv(url)\n",
        "df['Direction2'] = df.Direction.factorize()[0]\n",
        "X_test = df[df.Year > 2008][['Lag2']]\n",
        "y_test = df[df.Year > 2008][['Direction2']]\n",
        "\n",
        "X_test = sm.add_constant(X_test)\n",
        "\n",
        "y_prob = mod_d.predict(X_test)\n",
        "\n",
        "decision_prob = 0.5\n",
        "y_test = y_test.reset_index()['Direction2']\n",
        "y_prob = y_prob.reset_index()[0]\n",
        "\n",
        "df_ = pd.DataFrame({'True default status': y_test,\n",
        "                    'Predicted default status': y_prob > decision_prob})\n",
        "\n",
        "# matriz de confusion \n",
        "df_.replace(to_replace={True:1, False:0}, inplace=True)\n",
        "y_pred = np.asarray(df_['Predicted default status'])\n",
        "\n",
        "print('Precisión: ' + str(precision_score(y_test, y_pred)))\n",
        "print('Exactitud: ' + str(accuracy_score(y_test, y_pred)))\n",
        "\n",
        "df_.replace(to_replace={0:'Up', 1:'Down'}, inplace=True)\n",
        "df_.groupby(['Predicted default status','True default status']).size().unstack('True default status')"
      ],
      "execution_count": 0,
      "outputs": [
        {
          "output_type": "stream",
          "text": [
            "Precisión: 0.6222222222222222\n",
            "Exactitud: 0.625\n"
          ],
          "name": "stdout"
        },
        {
          "output_type": "stream",
          "text": [
            "/usr/local/lib/python3.6/dist-packages/numpy/core/fromnumeric.py:2389: FutureWarning: Method .ptp is deprecated and will be removed in a future version. Use numpy.ptp instead.\n",
            "  return ptp(axis=axis, out=out, **kwargs)\n"
          ],
          "name": "stderr"
        },
        {
          "output_type": "execute_result",
          "data": {
            "text/html": [
              "<div>\n",
              "<style scoped>\n",
              "    .dataframe tbody tr th:only-of-type {\n",
              "        vertical-align: middle;\n",
              "    }\n",
              "\n",
              "    .dataframe tbody tr th {\n",
              "        vertical-align: top;\n",
              "    }\n",
              "\n",
              "    .dataframe thead th {\n",
              "        text-align: right;\n",
              "    }\n",
              "</style>\n",
              "<table border=\"1\" class=\"dataframe\">\n",
              "  <thead>\n",
              "    <tr style=\"text-align: right;\">\n",
              "      <th>True default status</th>\n",
              "      <th>Down</th>\n",
              "      <th>Up</th>\n",
              "    </tr>\n",
              "    <tr>\n",
              "      <th>Predicted default status</th>\n",
              "      <th></th>\n",
              "      <th></th>\n",
              "    </tr>\n",
              "  </thead>\n",
              "  <tbody>\n",
              "    <tr>\n",
              "      <th>Down</th>\n",
              "      <td>56</td>\n",
              "      <td>34</td>\n",
              "    </tr>\n",
              "    <tr>\n",
              "      <th>Up</th>\n",
              "      <td>5</td>\n",
              "      <td>9</td>\n",
              "    </tr>\n",
              "  </tbody>\n",
              "</table>\n",
              "</div>"
            ],
            "text/plain": [
              "True default status       Down  Up\n",
              "Predicted default status          \n",
              "Down                        56  34\n",
              "Up                           5   9"
            ]
          },
          "metadata": {
            "tags": []
          },
          "execution_count": 97
        }
      ]
    },
    {
      "cell_type": "markdown",
      "metadata": {
        "id": "FBoSRHZt9sNC",
        "colab_type": "text"
      },
      "source": [
        "Para el conjunto de pruebas es evidente que el modelo no es bueno, obteniendo una precisión y exactitud bajas. \n",
        "\n",
        "La matriz de confusión muestra que, de un conjunto de 104 instancias, 5+9 = 14 fueron clasificadas como Up. De esas instancias 9 si son Up, pero 5 no. Sin embargo, de los 34+9 = 43 que realmente son Up, 34 no fueron identificados por el modelo. Lo cual representa un 79% de error, lo cual es inaceptable en un modelo de clasificación.\n",
        "\n",
        "56+34 = 90 fueron clasificadas como Down. De esas instancias 56 son Down, pero 34 no. Sin embargo, de los 56+5 = 61 que realmente son Down, 5 no fueron identificados por el modelo, lo cual representa un 8.19% de error. Lo cual es muy bueno para un conjunto de datos como este.\n",
        "\n",
        "La sensibilidad es el porcentaje de instancias que son Up y que fueron identificadas correctamente:\n",
        "9 / 43 x 100 = 20.93%\n",
        "\n",
        "La especificidad es el porcentaje de instancias que son Down y que fueron correctamente identificadas:\n",
        "56 / 61 x 100 = 91.8%\n",
        "\n",
        "Se estableció una probabilidad a posteriori de 0.5, como en los resultados se ha visto que la sensibilidad es muy baja utilizando este umbral, se podría disminuir para aumentar la sensibilidad, pero en dado caso, la especificidad disminuirá.\n",
        "\n",
        "\n",
        "\n",
        "**(e) Repita (d) utilizando LDA.**"
      ]
    },
    {
      "cell_type": "markdown",
      "metadata": {
        "id": "mTTN_ZhyYM-d",
        "colab_type": "text"
      },
      "source": [
        "El analisis discriminativo lineal consiste en modelar la distribución de los predictores X por separado para cada una de las clases de respuesta y después utilizar el teorema de Bayes para convertirlos en\n",
        "estimaciones de Pr(Y = k jX = x).\n",
        "Cuando estas distribuciones se suponen normales, el modelo se vuelve muy similar a la forma de la\n",
        "regresión logística.\n",
        "\n",
        "La probabilidad a priori supone que la proabilidad de que una instancia provenga  de alguna de las dos clases es la misma. El LDA resulta de suponer que las observaciones en cada clase provienen de una distribución normal, con un vector de medias específico para cada clase, una varianza común $\\ \\sigma ^2 $ , y de insertar todas estas estimaciones en el clasificador de Bayes.\n",
        "\n",
        "Para el conjunto de entrenamiento:"
      ]
    },
    {
      "cell_type": "code",
      "metadata": {
        "id": "Q6hxAo5s9vAi",
        "colab_type": "code",
        "outputId": "5097c8c6-41db-41d7-e41d-5a0d37b4f999",
        "colab": {
          "base_uri": "https://localhost:8080/",
          "height": 204
        }
      },
      "source": [
        "df = pd.read_csv(url)\n",
        "df['Direction2'] = df.Direction.factorize()[0]\n",
        "X_train_lda = df[df.Year < 2009][['Lag2']]\n",
        "y_train_lda = df[df.Year < 2009][['Direction2']]\n",
        "\n",
        "y_train_lda = y_train_lda.reset_index()['Direction2']\n",
        "lda = da.LinearDiscriminantAnalysis()\n",
        "lda.fit(X_train_lda, y_train_lda)\n",
        "y_pred_lda = lda.predict(X_train_lda)\n",
        "\n",
        "lda.priors_\n",
        "lda.means_\n",
        "lda.coef_\n",
        "\n",
        "print(classification_report(y_train_lda, y_pred_lda, digits=3))\n",
        "confusion_matrix(y_train_lda, y_pred_lda).T"
      ],
      "execution_count": 0,
      "outputs": [
        {
          "output_type": "stream",
          "text": [
            "              precision    recall  f1-score   support\n",
            "\n",
            "           0      0.524     0.050     0.091       441\n",
            "           1      0.556     0.963     0.705       544\n",
            "\n",
            "   micro avg      0.554     0.554     0.554       985\n",
            "   macro avg      0.540     0.507     0.398       985\n",
            "weighted avg      0.541     0.554     0.430       985\n",
            "\n"
          ],
          "name": "stdout"
        },
        {
          "output_type": "execute_result",
          "data": {
            "text/plain": [
              "array([[ 22,  20],\n",
              "       [419, 524]])"
            ]
          },
          "metadata": {
            "tags": []
          },
          "execution_count": 147
        }
      ]
    },
    {
      "cell_type": "markdown",
      "metadata": {
        "id": "MbreFmYTYJUm",
        "colab_type": "text"
      },
      "source": [
        "Para el conjunto de pruebas:"
      ]
    },
    {
      "cell_type": "code",
      "metadata": {
        "id": "QlWkudDnGs7U",
        "colab_type": "code",
        "outputId": "9f462436-da50-4588-d6e4-d5a9b14b0221",
        "colab": {
          "base_uri": "https://localhost:8080/",
          "height": 272
        }
      },
      "source": [
        "df = pd.read_csv(url)\n",
        "df['Direction2'] = df.Direction.factorize()[0]\n",
        "X_test_lda = df[df.Year > 2008][['Lag2']]\n",
        "y_test_lda = df[df.Year > 2008][['Direction2']]\n",
        "\n",
        "y_test_lda = y_test_lda.reset_index()['Direction2']\n",
        "y_pred_lda = lda.predict(X_test_lda)\n",
        "\n",
        "print(lda.priors_)\n",
        "print(lda.means_)\n",
        "print(lda.coef_)\n",
        "\n",
        "print(classification_report(y_test_lda, y_pred_lda, digits=3))\n",
        "confusion_matrix(y_test_lda, y_pred_lda).T"
      ],
      "execution_count": 0,
      "outputs": [
        {
          "output_type": "stream",
          "text": [
            "[0.44771574 0.55228426]\n",
            "[[-0.03568254]\n",
            " [ 0.26036581]]\n",
            "[[0.05768451]]\n",
            "              precision    recall  f1-score   support\n",
            "\n",
            "           0      0.643     0.209     0.316        43\n",
            "           1      0.622     0.918     0.742        61\n",
            "\n",
            "   micro avg      0.625     0.625     0.625       104\n",
            "   macro avg      0.633     0.564     0.529       104\n",
            "weighted avg      0.631     0.625     0.566       104\n",
            "\n"
          ],
          "name": "stdout"
        },
        {
          "output_type": "execute_result",
          "data": {
            "text/plain": [
              "array([[ 9,  5],\n",
              "       [34, 56]])"
            ]
          },
          "metadata": {
            "tags": []
          },
          "execution_count": 149
        }
      ]
    },
    {
      "cell_type": "markdown",
      "metadata": {
        "id": "l7Y2cfKG9vb6",
        "colab_type": "text"
      },
      "source": [
        "Se puede apreciar que el nivel de precisión para ambas clases es de 0.6, mientras que la sensibilidad (recall) es mucho mayor para la clase Down (1). El F-score es calculado utilizando precision y recall, de forma que se puede interpretar como una media de estos, mientras mas cercano a 1 sea, mejor es el score, y al contrario si es cercano a 0 esto indica que es peor. Support indica el número de observaciones para cada clase.\n",
        "\n",
        "La matriz de confusión esta acomodada de manera que la primer columna es la clase Up y la segunda es la clase Down, por lo que cambia un poco la manera de interpretación respecto a ejemplos anteriores. De un conjunto de 104 instancias, 9+5= 14 fueron identificadas como Up por el modelo, de las cuales 9 si son Up pero 5 no. Sin embargo, de los 9+34 = 43 que si son Up, 34 instancias no fueron identificadas. Lo cual representa un 79% de error, lo cual es inaceptable.\n",
        "\n",
        "La sensibilidad es el porcentaje de instancias que son Up y que fueron identificadas correctamente:\n",
        "9 / 43 x 100 = 20.93%\n",
        "\n",
        "La especificidad es el porcentaje de instancias que son Down y que fueron correctamente identificadas:\n",
        "56 / 61 x 100 = 91.8%\n",
        "\n",
        "Dado que LDA implementa el clasificador de Bayes, el umbral de probabilidad a posteriori es de 0.5 pero, como en los resultados se ha visto que la sensibilidad es muy baja utilizando este umbral, se podría disminuir para aumentar la sensibilidad, pero en dado caso, la especificidad disminuirá.\n",
        "\n",
        "**(f) Repita (d) utilizando QDA.**\n",
        "\n",
        "El LDA supone que las instancias en cada clase se obtienen de una distribución Gaussiana multivariada\n",
        "con un vector de medias específico y una matriz de covarianza que es común a todas las K\n",
        "clases. El análisis discriminativo cuadrático provee de un enfoque\n",
        "alternativo.\n",
        "Similar al LDA, el QDA también supone que las instancias para cada clase se obtiene de una\n",
        "distribución Gaussiana, y utiliza el teorema de Bayes para realizar la predicción.\n",
        "A diferencia del LDA, el QDA supone que cada clase tiene su propia matriz de covarianza.\n",
        "el QDA se recomienda si el conjunto de entrenamiento es muy largo, por lo que la varianza del clasificador no es el principal problema, o si la suposición de una matriz común de covarianza para las K clases es insostenible.\n",
        "\n",
        "Para el conjunto de entrenamiento:"
      ]
    },
    {
      "cell_type": "code",
      "metadata": {
        "id": "vCK8CMqO90Ef",
        "colab_type": "code",
        "outputId": "38bc540f-1f0b-4ce9-e212-06d96c94f09a",
        "colab": {
          "base_uri": "https://localhost:8080/",
          "height": 411
        }
      },
      "source": [
        "df = pd.read_csv(url)\n",
        "df['Direction2'] = df.Direction.factorize()[0]\n",
        "X_train_qda = df[df.Year < 2009][['Lag2']]\n",
        "y_train_qda = df[df.Year < 2009][['Direction2']]\n",
        "qda = da.QuadraticDiscriminantAnalysis()\n",
        "pred_qda = qda.fit(X_train_qda, y_train_qda).predict(X_train_qda)\n",
        "\n",
        "print(qda.priors_)\n",
        "print(qda.means_)\n",
        "\n",
        "print(classification_report(y_train_qda, pred_qda, digits=3))\n",
        "confusion_matrix(y_train_qda, pred_qda).T"
      ],
      "execution_count": 0,
      "outputs": [
        {
          "output_type": "stream",
          "text": [
            "[0.44771574 0.55228426]\n",
            "[[-0.03568254]\n",
            " [ 0.26036581]]\n",
            "              precision    recall  f1-score   support\n",
            "\n",
            "           0      0.000     0.000     0.000       441\n",
            "           1      0.552     1.000     0.712       544\n",
            "\n",
            "   micro avg      0.552     0.552     0.552       985\n",
            "   macro avg      0.276     0.500     0.356       985\n",
            "weighted avg      0.305     0.552     0.393       985\n",
            "\n"
          ],
          "name": "stdout"
        },
        {
          "output_type": "stream",
          "text": [
            "/usr/local/lib/python3.6/dist-packages/sklearn/utils/validation.py:761: DataConversionWarning: A column-vector y was passed when a 1d array was expected. Please change the shape of y to (n_samples, ), for example using ravel().\n",
            "  y = column_or_1d(y, warn=True)\n",
            "/usr/local/lib/python3.6/dist-packages/sklearn/metrics/classification.py:1143: UndefinedMetricWarning: Precision and F-score are ill-defined and being set to 0.0 in labels with no predicted samples.\n",
            "  'precision', 'predicted', average, warn_for)\n",
            "/usr/local/lib/python3.6/dist-packages/sklearn/metrics/classification.py:1143: UndefinedMetricWarning: Precision and F-score are ill-defined and being set to 0.0 in labels with no predicted samples.\n",
            "  'precision', 'predicted', average, warn_for)\n",
            "/usr/local/lib/python3.6/dist-packages/sklearn/metrics/classification.py:1143: UndefinedMetricWarning: Precision and F-score are ill-defined and being set to 0.0 in labels with no predicted samples.\n",
            "  'precision', 'predicted', average, warn_for)\n"
          ],
          "name": "stderr"
        },
        {
          "output_type": "execute_result",
          "data": {
            "text/plain": [
              "array([[  0,   0],\n",
              "       [441, 544]])"
            ]
          },
          "metadata": {
            "tags": []
          },
          "execution_count": 140
        }
      ]
    },
    {
      "cell_type": "markdown",
      "metadata": {
        "id": "JvKSd9l9N1uL",
        "colab_type": "text"
      },
      "source": [
        "Para el conjunto de pruebas:"
      ]
    },
    {
      "cell_type": "code",
      "metadata": {
        "id": "JlTM1o09N2Od",
        "colab_type": "code",
        "outputId": "8c9c6144-4a83-47f6-9d9e-36acd390120b",
        "colab": {
          "base_uri": "https://localhost:8080/",
          "height": 377
        }
      },
      "source": [
        "df = pd.read_csv(url)\n",
        "df['Direction2'] = df.Direction.factorize()[0]\n",
        "X_test_qda = df[df.Year > 2008][['Lag2']]\n",
        "y_test_qda = df[df.Year > 2008][['Direction2']]\n",
        "\n",
        "pred_qda = qda.predict(X_test_qda)\n",
        "\n",
        "print(qda.priors_)\n",
        "print(qda.means_)\n",
        "print(confusion_matrix(y_test_qda, pred_qda).T)\n",
        "print(classification_report(y_test_qda, pred_qda, digits=3))"
      ],
      "execution_count": 0,
      "outputs": [
        {
          "output_type": "stream",
          "text": [
            "[0.44771574 0.55228426]\n",
            "[[-0.03568254]\n",
            " [ 0.26036581]]\n",
            "[[ 0  0]\n",
            " [43 61]]\n",
            "              precision    recall  f1-score   support\n",
            "\n",
            "           0      0.000     0.000     0.000        43\n",
            "           1      0.587     1.000     0.739        61\n",
            "\n",
            "   micro avg      0.587     0.587     0.587       104\n",
            "   macro avg      0.293     0.500     0.370       104\n",
            "weighted avg      0.344     0.587     0.434       104\n",
            "\n"
          ],
          "name": "stdout"
        },
        {
          "output_type": "stream",
          "text": [
            "/usr/local/lib/python3.6/dist-packages/sklearn/metrics/classification.py:1143: UndefinedMetricWarning: Precision and F-score are ill-defined and being set to 0.0 in labels with no predicted samples.\n",
            "  'precision', 'predicted', average, warn_for)\n",
            "/usr/local/lib/python3.6/dist-packages/sklearn/metrics/classification.py:1143: UndefinedMetricWarning: Precision and F-score are ill-defined and being set to 0.0 in labels with no predicted samples.\n",
            "  'precision', 'predicted', average, warn_for)\n",
            "/usr/local/lib/python3.6/dist-packages/sklearn/metrics/classification.py:1143: UndefinedMetricWarning: Precision and F-score are ill-defined and being set to 0.0 in labels with no predicted samples.\n",
            "  'precision', 'predicted', average, warn_for)\n"
          ],
          "name": "stderr"
        }
      ]
    },
    {
      "cell_type": "markdown",
      "metadata": {
        "id": "v0WLlsalqv7A",
        "colab_type": "text"
      },
      "source": [
        "Se puede apreciar que el nivel de precisión para la clase Up es 0, lo cual indica que es muy malo. El F-score es calculado utilizando precision y recall, de forma que se puede interpretar como una media de estos, mientras mas cercano a 1 sea, mejor es el score, y al contrario si es cercano a 0 esto indica que es peor. Support indica el número de observaciones para cada clase.\n",
        "\n",
        "La matriz de confusión esta acomodada de manera que la primer columna es la clase Up y la segunda es la clase Down. De un conjunto de 104 instancias, 0+0= 0 fueron identificadas como Up por el modelo, lo que quiere decir que el modelo no fue capaz de reconocer alguna instancia Up.  Lo cual representa un 100% de error, lo cual es inaceptable.\n",
        "\n",
        "43+61= 104 instancias fueron identificadas como Down, de las cuales 61 realmente lo son, mientras que 43 fueron clasificadas erroneamente,. Lo cual representa un error del 70%, lo cual es inaceptable para un modelo.\n",
        "\n",
        "La sensibilidad es el porcentaje de instancias que son Up y que fueron identificadas correctamente:\n",
        "0 / 43 x 100 = 0%\n",
        "\n",
        "La especificidad es el porcentaje de instancias que son Down y que fueron correctamente identificadas:\n",
        "0 / 61 x 100 = 0%\n",
        "\n",
        "Como se puede ver, los resultados de QDA para este conjunto de datos es muy mala."
      ]
    },
    {
      "cell_type": "markdown",
      "metadata": {
        "id": "JmApxT4K90sg",
        "colab_type": "text"
      },
      "source": [
        "**(g) Repita (d) utilizando KNN con K = 1.**\n",
        "\n",
        "El clasificador KNN predice la clase de una observación dada identificando las instancias cercanas a esta, por lo que la escala de las variables es muy importante. El k define la cantidad de vecinos que se tomaran en consideración para la clasificación de la instancia en cuestión. A mayor k, mayor flexibilidad del modelo.\n",
        "\n",
        "Para el conjunto de entrenamiento:"
      ]
    },
    {
      "cell_type": "code",
      "metadata": {
        "id": "-PqJ2OM_93tE",
        "colab_type": "code",
        "outputId": "5c65a232-cbbf-4817-cc77-eb07e046b2d5",
        "colab": {
          "base_uri": "https://localhost:8080/",
          "height": 258
        }
      },
      "source": [
        "df = pd.read_csv(url)\n",
        "df['Direction2'] = df.Direction.factorize()[0]\n",
        "X_train_knn = df[df.Year < 2009][['Lag2']]\n",
        "y_train_knn = df[df.Year < 2009][['Direction2']]\n",
        "knn_1 = nb.KNeighborsClassifier(n_neighbors=1)\n",
        "knn_1_model = knn_1.fit(X_train_knn, y_train_knn)\n",
        "\n",
        "pred1 = knn_1_model.predict(X_train_knn)\n",
        "\n",
        "print(confusion_matrix(y_train_knn, pred1).T)\n",
        "print(classification_report(y_train_knn, pred1, digits=3))"
      ],
      "execution_count": 0,
      "outputs": [
        {
          "output_type": "stream",
          "text": [
            "[[417  18]\n",
            " [ 24 526]]\n",
            "              precision    recall  f1-score   support\n",
            "\n",
            "           0      0.959     0.946     0.952       441\n",
            "           1      0.956     0.967     0.962       544\n",
            "\n",
            "   micro avg      0.957     0.957     0.957       985\n",
            "   macro avg      0.957     0.956     0.957       985\n",
            "weighted avg      0.957     0.957     0.957       985\n",
            "\n"
          ],
          "name": "stdout"
        },
        {
          "output_type": "stream",
          "text": [
            "/usr/local/lib/python3.6/dist-packages/ipykernel_launcher.py:6: DataConversionWarning: A column-vector y was passed when a 1d array was expected. Please change the shape of y to (n_samples, ), for example using ravel().\n",
            "  \n"
          ],
          "name": "stderr"
        }
      ]
    },
    {
      "cell_type": "markdown",
      "metadata": {
        "id": "RkxNMhnuP5jG",
        "colab_type": "text"
      },
      "source": [
        "Para el conjunto de pruebas:"
      ]
    },
    {
      "cell_type": "code",
      "metadata": {
        "id": "NL13QZXBP8a8",
        "colab_type": "code",
        "outputId": "2825655d-5a73-412a-8848-5a11f0e24b6c",
        "colab": {
          "base_uri": "https://localhost:8080/",
          "height": 204
        }
      },
      "source": [
        "df = pd.read_csv(url)\n",
        "df['Direction2'] = df.Direction.factorize()[0]\n",
        "X_test_knn = df[df.Year > 2008][['Lag2']]\n",
        "y_test_knn = df[df.Year > 2008][['Direction2']]\n",
        "\n",
        "pred1 = knn_1_model.predict(X_test_knn)\n",
        "\n",
        "print(confusion_matrix(y_test_knn, pred1).T)\n",
        "print(classification_report(y_test_knn, pred1, digits=3))"
      ],
      "execution_count": 0,
      "outputs": [
        {
          "output_type": "stream",
          "text": [
            "[[21 31]\n",
            " [22 30]]\n",
            "              precision    recall  f1-score   support\n",
            "\n",
            "           0      0.404     0.488     0.442        43\n",
            "           1      0.577     0.492     0.531        61\n",
            "\n",
            "   micro avg      0.490     0.490     0.490       104\n",
            "   macro avg      0.490     0.490     0.487       104\n",
            "weighted avg      0.505     0.490     0.494       104\n",
            "\n"
          ],
          "name": "stdout"
        }
      ]
    },
    {
      "cell_type": "markdown",
      "metadata": {
        "id": "mdBbSJry99mm",
        "colab_type": "text"
      },
      "source": [
        "Se puede apreciar que el nivel de precisión para ambas clases es de 0.4 y 0.5 aproximadamente. El F-score es calculado utilizando precision y recall, de forma que se puede interpretar como una media de estos, mientras mas cercano a 1 sea, mejor es el score, y al contrario si es cercano a 0 esto indica que es peor. Support indica el número de observaciones para cada clase.\n",
        "\n",
        "La matriz de confusión esta acomodada de manera que la primer columna es la clase Up y la segunda es la clase Down. De un conjunto de 104 instancias, 21+31 = 52 fueron identificadas como Up por el modelo, de las cuales solo 21 eran realmente Up, mientras que 31 fueron clasificadas erroneamente. Por lo tanto, de los 61 que realmente eran Up, no fueron identificados 41, lo cual representa un error del 67.21%, lo cual es muy alto.\n",
        "\n",
        "22+30= 52 instancias fueron identificadas como Down, de las cuales 30 realmente lo son, mientras que 22 fueron clasificadas erroneamente,.Por lo tanto, de las 43 instancias que son Down, 13 no fueron identificadas  Lo cual representa un error del 30.23%, que es menor respecto a los modelos anteriores.\n",
        "\n",
        "La sensibilidad es el porcentaje de instancias que son Up y que fueron identificadas correctamente:\n",
        "21 / 43 x 100 = 48.83%\n",
        "\n",
        "La especificidad es el porcentaje de instancias que son Down y que fueron correctamente identificadas:\n",
        "30 / 61 x 100 = 49.18%\n",
        "\n",
        "Como se puede ver, los resultados del modelo KNN utilizando un k = 1 son mejores respecto a los anteriores."
      ]
    },
    {
      "cell_type": "markdown",
      "metadata": {
        "id": "O-GCwGnF94MK",
        "colab_type": "text"
      },
      "source": [
        "**(h) ¿Cuál de estos métodos obtiene mejores resultados? Proporcione una interpretación.**\n",
        "\n",
        "Eeste conjunto de datos es muy complejo de modelar dado que los predictores tienen un indice muy bajo de correlación, lo cual indica que no son significativos para una predicción acertada. Comparando los resultados obtenidos por los diferentes enfoques empleados para atacar el problema, se puede concluir que el de mejor desempeño fue el KNN, con un error menor a los demás, además de una sensibilidad y especificidad más balanceados. También se puede concluir que el QDA fue el peor de todos para realizar predicciones, lo cual indica que la frontera de decisión de Bayes muy probablemente no sigue un comportamiento cuadratico, lo cual explicaria el pobre desempeño de QDA."
      ]
    },
    {
      "cell_type": "markdown",
      "metadata": {
        "id": "JyMrl7Ke95QP",
        "colab_type": "text"
      },
      "source": [
        "**(i) Experimente con diferentes combinaciones de predictores, incluyendo posibles transformaciones e interacciones para cada uno de los métodos. Reporte las variables, métodos y matriz de confusión que arrojen los mejores resultados. Considere diferentes valores para K en el clasificador KNN.**\n",
        "\n",
        "Dado que en la matriz de correlación presentada al principio se puede ver que entre los predictores Lag2 y Volume hay el mayor grado de correlación, se ha propuesto un modelo de regresión logistica que implemente una interacción entre estos dos predictores, esperando que los resultados obtenidos sean mejores. Tambien se propone dividir el conjunto en train y test de manera aleatoria, para tratar de obtener una mejor muestra de entrenamiento para el modelo."
      ]
    },
    {
      "cell_type": "code",
      "metadata": {
        "id": "e0FJ2xdmdiSx",
        "colab_type": "code",
        "outputId": "14aedbb3-8bc0-4e88-8bb9-505fbb07a419",
        "colab": {
          "base_uri": "https://localhost:8080/",
          "height": 448
        }
      },
      "source": [
        "from sklearn.model_selection import train_test_split\n",
        "df = pd.read_csv(url)\n",
        "df['Direction2'] = df.Direction.factorize()[0]\n",
        "\n",
        "train,test=train_test_split(df,test_size=0.5,train_size=0.5)\n",
        "\n",
        "y_test = test['Direction']\n",
        "\n",
        "mod1 = smf.glm(formula='Direction~Lag2*Volume', data=train, family=sm.families.Binomial()).fit()\n",
        "print(mod1.summary())\n",
        "\n",
        "y_prob= mod1.predict(test)\n",
        "\n",
        "decision_prob = 0.5\n",
        "df_ = pd.DataFrame({'True default status': y,\n",
        "                    'Predicted default status': y_prob > decision_prob})\n",
        "\n",
        "df_.replace(to_replace={True:1, False:0}, inplace=True)\n",
        "y_pred = np.asarray(df_['Predicted default status'])\n",
        "\n",
        "df_.replace(to_replace={0:'Up', 1:'Down'}, inplace=True)\n",
        "df_.groupby(['Predicted default status','True default status']).size().unstack('True default status')"
      ],
      "execution_count": 0,
      "outputs": [
        {
          "output_type": "stream",
          "text": [
            "                          Generalized Linear Model Regression Results                           \n",
            "================================================================================================\n",
            "Dep. Variable:     ['Direction[Down]', 'Direction[Up]']   No. Observations:                  544\n",
            "Model:                                              GLM   Df Residuals:                      540\n",
            "Model Family:                                  Binomial   Df Model:                            3\n",
            "Link Function:                                    logit   Scale:                          1.0000\n",
            "Method:                                            IRLS   Log-Likelihood:                -371.29\n",
            "Date:                                  Mon, 20 May 2019   Deviance:                       742.58\n",
            "Time:                                          04:50:53   Pearson chi2:                     544.\n",
            "No. Iterations:                                       4   Covariance Type:             nonrobust\n",
            "===============================================================================\n",
            "                  coef    std err          z      P>|z|      [0.025      0.975]\n",
            "-------------------------------------------------------------------------------\n",
            "Intercept      -0.2538      0.122     -2.085      0.037      -0.492      -0.015\n",
            "Lag2           -0.0320      0.054     -0.590      0.555      -0.138       0.074\n",
            "Volume          0.0118      0.053      0.223      0.824      -0.092       0.116\n",
            "Lag2:Volume    -0.0124      0.015     -0.814      0.415      -0.042       0.017\n",
            "===============================================================================\n"
          ],
          "name": "stdout"
        },
        {
          "output_type": "execute_result",
          "data": {
            "text/html": [
              "<div>\n",
              "<style scoped>\n",
              "    .dataframe tbody tr th:only-of-type {\n",
              "        vertical-align: middle;\n",
              "    }\n",
              "\n",
              "    .dataframe tbody tr th {\n",
              "        vertical-align: top;\n",
              "    }\n",
              "\n",
              "    .dataframe thead th {\n",
              "        text-align: right;\n",
              "    }\n",
              "</style>\n",
              "<table border=\"1\" class=\"dataframe\">\n",
              "  <thead>\n",
              "    <tr style=\"text-align: right;\">\n",
              "      <th>True default status</th>\n",
              "      <th>Down</th>\n",
              "      <th>Up</th>\n",
              "    </tr>\n",
              "    <tr>\n",
              "      <th>Predicted default status</th>\n",
              "      <th></th>\n",
              "      <th></th>\n",
              "    </tr>\n",
              "  </thead>\n",
              "  <tbody>\n",
              "    <tr>\n",
              "      <th>Down</th>\n",
              "      <td>7</td>\n",
              "      <td>12</td>\n",
              "    </tr>\n",
              "    <tr>\n",
              "      <th>Up</th>\n",
              "      <td>295</td>\n",
              "      <td>231</td>\n",
              "    </tr>\n",
              "  </tbody>\n",
              "</table>\n",
              "</div>"
            ],
            "text/plain": [
              "True default status       Down   Up\n",
              "Predicted default status           \n",
              "Down                         7   12\n",
              "Up                         295  231"
            ]
          },
          "metadata": {
            "tags": []
          },
          "execution_count": 159
        }
      ]
    },
    {
      "cell_type": "markdown",
      "metadata": {
        "id": "E7GO0bg-Sg6I",
        "colab_type": "text"
      },
      "source": [
        "Se puede ver en el summary del modelo que el coeficiente de interacción entre Lag2 y Volume tiende a cero, aunque en una grado menor que Lag2 por si solo, por lo que se puede inferir que su interacción con Volume sea más significativa para la predicción que Lag2 por si solo. Pero aun tomando en cuenta lo anterior, los coeficientes siguen sin tener una relevancia importante.\n",
        "\n",
        "La matriz de confusión muestra que, de un conjunto de 545 instancias, 295+231 = 525  fueron clasificadas como Up. De esas instancias 231 si son Up, pero 12 no. Sin embargo, de los 231+12 = 243 que realmente son Up, 12 no fueron identificados por el modelo. Lo cual representa un 4.93% de error, lo cual es muy bueno, superando así a los demás modelos en este punto.\n",
        "\n",
        "7+12 = 19 fueron identificadas como Down. De esas 7 efectivamente son Down, pero 12 no. Sin embargo, de los 7+295 = 302 que realmente son Down, 295 no fueron identificadas por el modelo. Lo cual representa un 97.68% de error, el cual es el peor de todos los metodo utilizados.\n",
        "\n",
        "La sensibilidad es el porcentaje de instancias que son Up y que fueron identificadas correctamente:\n",
        "231 / 243 x 100 = 95.06%\n",
        "\n",
        "La especificidad es el porcentaje de instancias que son Down y que fueron correctamente identificadas:\n",
        "7 / 302 x 100 = 2.31%\n",
        "\n",
        "A continuación se presenta un modelo de regresión logistica utilizando Lag2 y Volume como predictores, dividiendo el conjunto de entrenamiento y pruebas tal como en (d) se propone."
      ]
    },
    {
      "cell_type": "code",
      "metadata": {
        "id": "t5pWHMyMYcqt",
        "colab_type": "code",
        "outputId": "7fda6fce-d7de-4d20-89f8-864b560b51db",
        "colab": {
          "base_uri": "https://localhost:8080/",
          "height": 553
        }
      },
      "source": [
        "df = pd.read_csv(url)\n",
        "df['Direction2'] = df.Direction.factorize()[0]\n",
        "\n",
        "X_train = df[df.Year < 2009][['Lag2', 'Volume']]\n",
        "y_train = df[df.Year < 2009][['Direction2']]\n",
        "X_test = df[df.Year > 2008][['Lag2', 'Volume']]\n",
        "y_test = df[df.Year > 2008][['Direction2']]\n",
        "\n",
        "X_test = sm.add_constant(X_test)\n",
        "\n",
        "X_train = sm.add_constant(X_train) \n",
        "\n",
        "\n",
        "mod_d = smf.Logit(y_train, X_train).fit()\n",
        "print(mod_d.summary())\n",
        "\n",
        "y_prob = mod_d.predict(X_test)\n",
        "\n",
        "decision_prob = 0.5\n",
        "y_test = y_test.reset_index()['Direction2']\n",
        "y_prob = y_prob.reset_index()[0]\n",
        "\n",
        "df_ = pd.DataFrame({'True default status': y_test,\n",
        "                    'Predicted default status': y_prob > decision_prob})\n",
        "\n",
        "# matriz de confusion \n",
        "df_.replace(to_replace={True:1, False:0}, inplace=True)\n",
        "y_pred = np.asarray(df_['Predicted default status'])\n",
        "\n",
        "\n",
        "print('Precisión: ' + str(precision_score(y_test, y_pred)))\n",
        "print('Exactitud: ' + str(accuracy_score(y_test, y_pred)))\n",
        "\n",
        "df_.replace(to_replace={0:'Up', 1:'Down'}, inplace=True)\n",
        "df_.groupby(['Predicted default status','True default status']).size().unstack('True default status')\n"
      ],
      "execution_count": 0,
      "outputs": [
        {
          "output_type": "stream",
          "text": [
            "Optimization terminated successfully.\n",
            "         Current function value: 0.684972\n",
            "         Iterations 4\n",
            "                           Logit Regression Results                           \n",
            "==============================================================================\n",
            "Dep. Variable:             Direction2   No. Observations:                  985\n",
            "Model:                          Logit   Df Residuals:                      982\n",
            "Method:                           MLE   Df Model:                            2\n",
            "Date:                Mon, 20 May 2019   Pseudo R-squ.:                0.003924\n",
            "Time:                        04:02:19   Log-Likelihood:                -674.70\n",
            "converged:                       True   LL-Null:                       -677.35\n",
            "                                        LLR p-value:                   0.07012\n",
            "==============================================================================\n",
            "                 coef    std err          z      P>|z|      [0.025      0.975]\n",
            "------------------------------------------------------------------------------\n",
            "const          0.2707      0.090      3.006      0.003       0.094       0.447\n",
            "Lag2           0.0535      0.029      1.842      0.066      -0.003       0.110\n",
            "Volume        -0.0555      0.052     -1.071      0.284      -0.157       0.046\n",
            "==============================================================================\n",
            "Precisión: 0.6101694915254238\n",
            "Exactitud: 0.5384615384615384\n"
          ],
          "name": "stdout"
        },
        {
          "output_type": "stream",
          "text": [
            "/usr/local/lib/python3.6/dist-packages/numpy/core/fromnumeric.py:2389: FutureWarning: Method .ptp is deprecated and will be removed in a future version. Use numpy.ptp instead.\n",
            "  return ptp(axis=axis, out=out, **kwargs)\n"
          ],
          "name": "stderr"
        },
        {
          "output_type": "execute_result",
          "data": {
            "text/html": [
              "<div>\n",
              "<style scoped>\n",
              "    .dataframe tbody tr th:only-of-type {\n",
              "        vertical-align: middle;\n",
              "    }\n",
              "\n",
              "    .dataframe tbody tr th {\n",
              "        vertical-align: top;\n",
              "    }\n",
              "\n",
              "    .dataframe thead th {\n",
              "        text-align: right;\n",
              "    }\n",
              "</style>\n",
              "<table border=\"1\" class=\"dataframe\">\n",
              "  <thead>\n",
              "    <tr style=\"text-align: right;\">\n",
              "      <th>True default status</th>\n",
              "      <th>Down</th>\n",
              "      <th>Up</th>\n",
              "    </tr>\n",
              "    <tr>\n",
              "      <th>Predicted default status</th>\n",
              "      <th></th>\n",
              "      <th></th>\n",
              "    </tr>\n",
              "  </thead>\n",
              "  <tbody>\n",
              "    <tr>\n",
              "      <th>Down</th>\n",
              "      <td>36</td>\n",
              "      <td>23</td>\n",
              "    </tr>\n",
              "    <tr>\n",
              "      <th>Up</th>\n",
              "      <td>25</td>\n",
              "      <td>20</td>\n",
              "    </tr>\n",
              "  </tbody>\n",
              "</table>\n",
              "</div>"
            ],
            "text/plain": [
              "True default status       Down  Up\n",
              "Predicted default status          \n",
              "Down                        36  23\n",
              "Up                          25  20"
            ]
          },
          "metadata": {
            "tags": []
          },
          "execution_count": 135
        }
      ]
    },
    {
      "cell_type": "markdown",
      "metadata": {
        "id": "4-NXix4RYk_l",
        "colab_type": "text"
      },
      "source": [
        "La preicisón y exactitud no son tan malas tomando en consideración el bajo grado de correlación de los predictores con la respuesta.\n",
        "\n",
        "La matriz de confusión muestra que, de un conjunto de 104 instancias, 25+20 = 45 fueron clasificadas como Up. De esas instancias 20 si son Up, pero 25 no. Sin embargo, de los 23+20 = 43 que realmente son Up, 23 no fueron identificados por el modelo. Lo cual representa un 53% de error, lo cual es menor a (d), pero aun asi muy malo.\n",
        "\n",
        "36+23 = 59 fueron identificadas como Down. De esas 36 efectivamente son Down, pero 23 no. Sin embargo, de los 36+25 = 61 que realmente son Down, 25 no fueron identificadas por el modelo. Lo cual representa un 40.98% de error \n",
        "\n",
        "La sensibilidad es el porcentaje de instancias que son Up y que fueron identificadas correctamente:\n",
        "20 / 43 x 100 = 46.51%\n",
        "\n",
        "La especificidad es el porcentaje de instancias que son Down y que fueron correctamente identificadas:\n",
        "36 / 61 x 100 = 59.01%"
      ]
    },
    {
      "cell_type": "markdown",
      "metadata": {
        "id": "_KovYbUwfPTV",
        "colab_type": "text"
      },
      "source": [
        "A continuación se propone un modelo KNN tal como se hizo en (g), pero con un k=3, esperando tener mejores resultados."
      ]
    },
    {
      "cell_type": "code",
      "metadata": {
        "id": "2gtybRbRWiI2",
        "colab_type": "code",
        "outputId": "900425a8-848e-4cd0-dfd4-0f5883162819",
        "colab": {
          "base_uri": "https://localhost:8080/",
          "height": 258
        }
      },
      "source": [
        "df = pd.read_csv(url)\n",
        "df['Direction2'] = df.Direction.factorize()[0]\n",
        "\n",
        "knn_3 = nb.KNeighborsClassifier(n_neighbors=3)\n",
        "knn_3_model = knn_1.fit(X_train_knn, y_train_knn)\n",
        "\n",
        "pred3 = knn_3_model.predict(X_test_knn)\n",
        "\n",
        "print(confusion_matrix(y_test_knn, pred3).T)\n",
        "print(classification_report(y_test_knn, pred3, digits=3))"
      ],
      "execution_count": 0,
      "outputs": [
        {
          "output_type": "stream",
          "text": [
            "[[21 31]\n",
            " [22 30]]\n",
            "              precision    recall  f1-score   support\n",
            "\n",
            "           0      0.404     0.488     0.442        43\n",
            "           1      0.577     0.492     0.531        61\n",
            "\n",
            "   micro avg      0.490     0.490     0.490       104\n",
            "   macro avg      0.490     0.490     0.487       104\n",
            "weighted avg      0.505     0.490     0.494       104\n",
            "\n"
          ],
          "name": "stdout"
        },
        {
          "output_type": "stream",
          "text": [
            "/usr/local/lib/python3.6/dist-packages/ipykernel_launcher.py:5: DataConversionWarning: A column-vector y was passed when a 1d array was expected. Please change the shape of y to (n_samples, ), for example using ravel().\n",
            "  \"\"\"\n"
          ],
          "name": "stderr"
        }
      ]
    },
    {
      "cell_type": "markdown",
      "metadata": {
        "id": "NZrLCO4LfOSH",
        "colab_type": "text"
      },
      "source": [
        "Se puede ver que la precisión y exactitud para k=3 es peor que para k=1, tal como se hizo en (g). Esto indica que para este conjunto de datos es mejor un modelo flexible.\n",
        "\n",
        "La matriz de confusión esta acomodada de manera que la primer columna es la clase Up y la segunda es la clase Down. De un conjunto de 104 instancias, 21+31 = 52 fueron identificadas como Up por el modelo, de las cuales solo 21 eran realmente Up, mientras que 31 fueron clasificadas erroneamente. Por lo tanto, de los 61 que realmente eran Up, no fueron identificados 41, lo cual representa un error del 67.21%, lo cual es muy alto.\n",
        "\n",
        "22+30= 52 instancias fueron identificadas como Down, de las cuales 30 realmente lo son, mientras que 22 fueron clasificadas erroneamente,.Por lo tanto, de las 43 instancias que son Down, 13 no fueron identificadas  Lo cual representa un error del 30.23%, que es menor respecto a los modelos anteriores.\n",
        "\n",
        "La sensibilidad es el porcentaje de instancias que son Up y que fueron identificadas correctamente:\n",
        "21 / 43 x 100 = 48.83%\n",
        "\n",
        "La especificidad es el porcentaje de instancias que son Down y que fueron correctamente identificadas:\n",
        "30 / 61 x 100 = 49.18%\n",
        "\n",
        "Como se puede ver la matriz de confusión para k=3 es igual a la de k=1, pero varian en sus valores de precisión y exactitud, teniendo k=1 mejores resultados.\n"
      ]
    },
    {
      "cell_type": "code",
      "metadata": {
        "id": "sJNz3pYbX_9H",
        "colab_type": "code",
        "outputId": "ad7bc1ef-2192-44b7-fe0f-b94fa91fd99f",
        "colab": {
          "base_uri": "https://localhost:8080/",
          "height": 258
        }
      },
      "source": [
        "knn_5 = nb.KNeighborsClassifier(n_neighbors=5)\n",
        "knn_5_model = knn_5.fit(X_train_knn, y_train_knn)\n",
        "\n",
        "pred5 = knn_5_model.predict(X_test_knn)\n",
        "\n",
        "print(confusion_matrix(y_test_knn, pred5).T)\n",
        "print(classification_report(y_test_knn, pred5, digits=3))"
      ],
      "execution_count": 0,
      "outputs": [
        {
          "output_type": "stream",
          "text": [
            "[[16 22]\n",
            " [27 39]]\n",
            "              precision    recall  f1-score   support\n",
            "\n",
            "           0      0.421     0.372     0.395        43\n",
            "           1      0.591     0.639     0.614        61\n",
            "\n",
            "   micro avg      0.529     0.529     0.529       104\n",
            "   macro avg      0.506     0.506     0.505       104\n",
            "weighted avg      0.521     0.529     0.524       104\n",
            "\n"
          ],
          "name": "stdout"
        },
        {
          "output_type": "stream",
          "text": [
            "/usr/local/lib/python3.6/dist-packages/ipykernel_launcher.py:2: DataConversionWarning: A column-vector y was passed when a 1d array was expected. Please change the shape of y to (n_samples, ), for example using ravel().\n",
            "  \n"
          ],
          "name": "stderr"
        }
      ]
    },
    {
      "cell_type": "markdown",
      "metadata": {
        "id": "Vi32LrUUn3uQ",
        "colab_type": "text"
      },
      "source": [
        "Se puede ver que la precisión y exactitud para k=5 es peor que para k=1 y muy similar a k=3.\n",
        "\n",
        "La matriz de confusión esta acomodada de manera que la primer columna es la clase Up y la segunda es la clase Down. De un conjunto de 104 instancias, 16+22 = 38 fueron identificadas como Up por el modelo, de las cuales solo 16 eran realmente Up, mientras que 22 fueron clasificadas erroneamente. Por lo tanto, de los 61 que realmente eran Up, no fueron identificados 39, lo cual representa un error del 63.93%, que para sorpresa es menor que para (g).\n",
        "\n",
        "27+39= 66 instancias fueron identificadas como Down, de las cuales 39 realmente lo son, mientras que 27 fueron clasificadas erroneamente,.Por lo tanto, de las 43 instancias que son Down, 22 no fueron identificadas  Lo cual representa un error del 51.16%, que es peor que en (g)\n",
        "\n",
        "La sensibilidad es el porcentaje de instancias que son Up y que fueron identificadas correctamente:\n",
        "16 / 43 x 100 = 37.2%%\n",
        "\n",
        "La especificidad es el porcentaje de instancias que son Down y que fueron correctamente identificadas:\n",
        "39 / 61 x 100 = 63.93%\n",
        "\n",
        "Como se puede ver la matriz de confusión para k=5 es diferente que para k=1 y k=3, teniendo menor tasa de error para identificar los Up, pero peor para identificar los Down."
      ]
    },
    {
      "cell_type": "markdown",
      "metadata": {
        "id": "FAYwJa7cqJ2v",
        "colab_type": "text"
      },
      "source": [
        "# Conclusiones\n",
        "\n",
        "El conjunto de datos Weekly es, según las pruebas realizadas a través de distintos métodos de clasificación, dificil de implementar en un modelo de clasificación eficiente, los resultados en general son muy malos, tanto que los indices de precisión y exactitud no logran pasar de 68% en el mejor de los casos. Aunque tomando en cuenta los pobres indices de correlacion de los predictores, se puede concluir que estos son de los mejores resultados que se pueden tener. Experimentando con los diferentes enfoques de entrenamiento y combinaciones de predictores, se puede concluir que el KNN con k=1 fue el que dio mejores resultados en general, y posiblemente podría mejorarse con otro metodo de muestreo, dado que en la experimentación, el muestreo aleatoria demostró ser mejor en cuestión de obtener una muestra mas representativa de la población. Es un conjunto de datos complejo, pero muy bueno para hacer pruebas y practicar."
      ]
    }
  ]
}